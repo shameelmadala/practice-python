{
 "cells": [
  {
   "cell_type": "code",
   "execution_count": 1,
   "metadata": {
    "executionInfo": {
     "elapsed": 6,
     "status": "ok",
     "timestamp": 1664781493093,
     "user": {
      "displayName": "Naresh kumar",
      "userId": "14067707905583327532"
     },
     "user_tz": -330
    },
    "id": "vVMmft97rBJO"
   },
   "outputs": [],
   "source": [
    "import random\n",
    "available_fruits=['mango','banana','orange','grapes']\n",
    "fruit_stock=dict()\n",
    "fruit_item=['name','quantity','price','alert']\n",
    "for af in available_fruits:\n",
    "  fruit_id=random.randint(100,999)\n",
    "  fruit_stock.setdefault(fruit_id,dict.fromkeys(fruit_item))\n",
    "  fruit_stock[fruit_id]['name']=af\n"
   ]
  },
  {
   "cell_type": "code",
   "execution_count": 2,
   "metadata": {
    "colab": {
     "base_uri": "https://localhost:8080/"
    },
    "executionInfo": {
     "elapsed": 8,
     "status": "ok",
     "timestamp": 1664781507733,
     "user": {
      "displayName": "Naresh kumar",
      "userId": "14067707905583327532"
     },
     "user_tz": -330
    },
    "id": "ZgAJSBudtXS2",
    "outputId": "2b262ce2-9c10-4c09-bad8-23e7fce067f2"
   },
   "outputs": [
    {
     "data": {
      "text/plain": [
       "{153: {'name': 'mango', 'quantity': None, 'price': None, 'alert': None},\n",
       " 618: {'name': 'banana', 'quantity': None, 'price': None, 'alert': None},\n",
       " 287: {'name': 'orange', 'quantity': None, 'price': None, 'alert': None},\n",
       " 798: {'name': 'grapes', 'quantity': None, 'price': None, 'alert': None}}"
      ]
     },
     "execution_count": 2,
     "metadata": {},
     "output_type": "execute_result"
    }
   ],
   "source": [
    "fruit_stock"
   ]
  },
  {
   "cell_type": "code",
   "execution_count": 3,
   "metadata": {
    "executionInfo": {
     "elapsed": 5,
     "status": "ok",
     "timestamp": 1664781634305,
     "user": {
      "displayName": "Naresh kumar",
      "userId": "14067707905583327532"
     },
     "user_tz": -330
    },
    "id": "YK85jXeMtdQ8"
   },
   "outputs": [],
   "source": [
    "fruit_stock[618]['price']=80\n",
    "fruit_stock[618]['quantity']=60\n",
    "fruit_stock[618]['alert']=12"
   ]
  },
  {
   "cell_type": "code",
   "execution_count": 4,
   "metadata": {
    "colab": {
     "base_uri": "https://localhost:8080/"
    },
    "executionInfo": {
     "elapsed": 7,
     "status": "ok",
     "timestamp": 1664781643255,
     "user": {
      "displayName": "Naresh kumar",
      "userId": "14067707905583327532"
     },
     "user_tz": -330
    },
    "id": "hBrx7I56t8QS",
    "outputId": "46755da5-03c0-45c0-cc2f-806093a182cf"
   },
   "outputs": [
    {
     "data": {
      "text/plain": [
       "{153: {'name': 'mango', 'quantity': None, 'price': None, 'alert': None},\n",
       " 618: {'name': 'banana', 'quantity': 60, 'price': 80, 'alert': 12},\n",
       " 287: {'name': 'orange', 'quantity': None, 'price': None, 'alert': None},\n",
       " 798: {'name': 'grapes', 'quantity': None, 'price': None, 'alert': None}}"
      ]
     },
     "execution_count": 4,
     "metadata": {},
     "output_type": "execute_result"
    }
   ],
   "source": [
    "fruit_stock"
   ]
  },
  {
   "cell_type": "code",
   "execution_count": 5,
   "metadata": {
    "executionInfo": {
     "elapsed": 5,
     "status": "ok",
     "timestamp": 1664781774000,
     "user": {
      "displayName": "Naresh kumar",
      "userId": "14067707905583327532"
     },
     "user_tz": -330
    },
    "id": "59y2S8kRt-bx"
   },
   "outputs": [],
   "source": [
    "fruit_stock[287]['price']=80\n",
    "fruit_stock[287]['quantity']=60\n",
    "fruit_stock[287]['alert']=12"
   ]
  },
  {
   "cell_type": "code",
   "execution_count": 6,
   "metadata": {
    "colab": {
     "base_uri": "https://localhost:8080/"
    },
    "executionInfo": {
     "elapsed": 6,
     "status": "ok",
     "timestamp": 1664781780261,
     "user": {
      "displayName": "Naresh kumar",
      "userId": "14067707905583327532"
     },
     "user_tz": -330
    },
    "id": "Z4X7LbcNueao",
    "outputId": "d3c77228-acb0-4b31-c66d-019d7f5343f4"
   },
   "outputs": [
    {
     "data": {
      "text/plain": [
       "{153: {'name': 'mango', 'quantity': None, 'price': None, 'alert': None},\n",
       " 618: {'name': 'banana', 'quantity': 60, 'price': 80, 'alert': 12},\n",
       " 287: {'name': 'orange', 'quantity': 60, 'price': 80, 'alert': 12},\n",
       " 798: {'name': 'grapes', 'quantity': None, 'price': None, 'alert': None}}"
      ]
     },
     "execution_count": 6,
     "metadata": {},
     "output_type": "execute_result"
    }
   ],
   "source": [
    "fruit_stock"
   ]
  },
  {
   "cell_type": "code",
   "execution_count": 9,
   "metadata": {
    "executionInfo": {
     "elapsed": 3,
     "status": "ok",
     "timestamp": 1664782232356,
     "user": {
      "displayName": "Naresh kumar",
      "userId": "14067707905583327532"
     },
     "user_tz": -330
    },
    "id": "z8c1Emtiuf7E"
   },
   "outputs": [],
   "source": [
    "fruit_stock[287]['price']=75\n",
    "fruit_stock[287]['quantity']+=30\n",
    "fruit_stock[287]['alert']=12"
   ]
  },
  {
   "cell_type": "code",
   "execution_count": 10,
   "metadata": {
    "colab": {
     "base_uri": "https://localhost:8080/"
    },
    "executionInfo": {
     "elapsed": 4,
     "status": "ok",
     "timestamp": 1664782232970,
     "user": {
      "displayName": "Naresh kumar",
      "userId": "14067707905583327532"
     },
     "user_tz": -330
    },
    "id": "6Lm7AVjRwIwa",
    "outputId": "2543641e-9557-41d0-86d6-edeb54af907d"
   },
   "outputs": [
    {
     "data": {
      "text/plain": [
       "{153: {'name': 'mango', 'quantity': None, 'price': None, 'alert': None},\n",
       " 618: {'name': 'banana', 'quantity': 60, 'price': 80, 'alert': 12},\n",
       " 287: {'name': 'orange', 'quantity': 120, 'price': 75, 'alert': 12},\n",
       " 798: {'name': 'grapes', 'quantity': None, 'price': None, 'alert': None}}"
      ]
     },
     "execution_count": 10,
     "metadata": {},
     "output_type": "execute_result"
    }
   ],
   "source": [
    "fruit_stock"
   ]
  },
  {
   "cell_type": "code",
   "execution_count": 11,
   "metadata": {
    "executionInfo": {
     "elapsed": 4,
     "status": "ok",
     "timestamp": 1664782420249,
     "user": {
      "displayName": "Naresh kumar",
      "userId": "14067707905583327532"
     },
     "user_tz": -330
    },
    "id": "4vv3DFJgwKMS"
   },
   "outputs": [],
   "source": [
    "fruit_stock[287]['price']=80\n",
    "fruit_stock[287]['quantity']-=10\n",
    "fruit_stock[287]['alert']=12"
   ]
  },
  {
   "cell_type": "code",
   "execution_count": 12,
   "metadata": {
    "colab": {
     "base_uri": "https://localhost:8080/"
    },
    "executionInfo": {
     "elapsed": 5,
     "status": "ok",
     "timestamp": 1664782428401,
     "user": {
      "displayName": "Naresh kumar",
      "userId": "14067707905583327532"
     },
     "user_tz": -330
    },
    "id": "PkcM4W1Ew8Iz",
    "outputId": "b7110634-cb71-4076-b98c-cf599620c58d"
   },
   "outputs": [
    {
     "data": {
      "text/plain": [
       "{153: {'name': 'mango', 'quantity': None, 'price': None, 'alert': None},\n",
       " 618: {'name': 'banana', 'quantity': 60, 'price': 80, 'alert': 12},\n",
       " 287: {'name': 'orange', 'quantity': 110, 'price': 80, 'alert': 12},\n",
       " 798: {'name': 'grapes', 'quantity': None, 'price': None, 'alert': None}}"
      ]
     },
     "execution_count": 12,
     "metadata": {},
     "output_type": "execute_result"
    }
   ],
   "source": [
    "fruit_stock"
   ]
  },
  {
   "cell_type": "code",
   "execution_count": 7,
   "metadata": {
    "colab": {
     "base_uri": "https://localhost:8080/",
     "height": 391
    },
    "executionInfo": {
     "elapsed": 11274,
     "status": "error",
     "timestamp": 1664787775949,
     "user": {
      "displayName": "Naresh kumar",
      "userId": "14067707905583327532"
     },
     "user_tz": -330
    },
    "id": "d7a3CrQ8w-DO",
    "outputId": "a3dee410-1ba7-4330-c32b-d84739687cad"
   },
   "outputs": [
    {
     "name": "stdout",
     "output_type": "stream",
     "text": [
      "Welcome to fruit market\n",
      "1. Manager \n",
      "2. Customer\n",
      "Select Your role: 2\n",
      "Welcome To Costomer zone\n",
      "\n",
      "available fruits = ['mango', 'banana', 'orange', 'grapes']\n",
      "\n",
      "enter a fruit name: mango\n"
     ]
    },
    {
     "ename": "KeyError",
     "evalue": "622",
     "output_type": "error",
     "traceback": [
      "\u001b[1;31m---------------------------------------------------------------------------\u001b[0m",
      "\u001b[1;31mKeyError\u001b[0m                                  Traceback (most recent call last)",
      "Input \u001b[1;32mIn [7]\u001b[0m, in \u001b[0;36m<cell line: 31>\u001b[1;34m()\u001b[0m\n\u001b[0;32m     35\u001b[0m fruit\u001b[38;5;241m=\u001b[39mfruit\u001b[38;5;241m.\u001b[39mlower()\n\u001b[0;32m     36\u001b[0m \u001b[38;5;28;01mif\u001b[39;00m fruit\u001b[38;5;241m==\u001b[39m\u001b[38;5;124m'\u001b[39m\u001b[38;5;124mmango\u001b[39m\u001b[38;5;124m'\u001b[39m:\n\u001b[1;32m---> 37\u001b[0m   \u001b[38;5;28mprint\u001b[39m(\u001b[38;5;124mf\u001b[39m\u001b[38;5;124m'\u001b[39m\u001b[38;5;124mFruit Price=\u001b[39m\u001b[38;5;132;01m{\u001b[39;00mfruit_stock[fruit_id][price]\u001b[38;5;132;01m}\u001b[39;00m\u001b[38;5;124m'\u001b[39m)\n\u001b[0;32m     38\u001b[0m   quantity\u001b[38;5;241m=\u001b[39m\u001b[38;5;28mint\u001b[39m(\u001b[38;5;28minput\u001b[39m(\u001b[38;5;124m'\u001b[39m\u001b[38;5;124mEnter Quantity: \u001b[39m\u001b[38;5;124m'\u001b[39m))\n\u001b[0;32m     39\u001b[0m   fruit_stock[fruit_id][\u001b[38;5;124m'\u001b[39m\u001b[38;5;124mquantity\u001b[39m\u001b[38;5;124m'\u001b[39m]\u001b[38;5;241m-\u001b[39m\u001b[38;5;241m=\u001b[39mquantity\n",
      "\u001b[1;31mKeyError\u001b[0m: 622"
     ]
    }
   ],
   "source": [
    "import random\n",
    "print('Welcome to fruit market')\n",
    "print('1. Manager \\n2. Customer')\n",
    "available_fruits=['mango','banana','orange','grapes']\n",
    "fruit_stock=dict()\n",
    "fruit_id=random.randint(100,999)\n",
    "fruit_item=['name','quantity','price','alert']\n",
    "option=int(input('Select Your role: '))\n",
    "if option==1:\n",
    "  print('Fruit Market Manager\\n1.Add Fruit\\n2.View Fruit\\n3.Update Fruit')\n",
    "  choice=int(input('Enter Your Choice: '))\n",
    "  if choice==1:\n",
    "    for af in available_fruits:\n",
    "      fruit_stock.setdefault(fruit_id,dict.fromkeys(fruit_item))\n",
    "      fruit_stock[fruit_id]['name']=af\n",
    "      fruit_stock[fruit_id]['price']=int(input(f'Enter {af} price: '))\n",
    "      fruit_stock[fruit_id]['quantity']=int(input('Enter quantity: '))\n",
    "      fruit_stock[fruit_id]['alert']=12\n",
    "  elif choice==2:\n",
    "    print(fruit_stock)\n",
    "  elif choice==3:\n",
    "    for af in available_fruits:\n",
    "      fruit_id+=1\n",
    "      fruit_stock.setdefault(fruit_id,dict.fromkeys(fruit_item))\n",
    "      fruit_stock[fruit_id]['name']=af\n",
    "      fruit_stock[fruit_id]['price']=int(input(f'Enter {af} price: '))\n",
    "      fruit_stock[fruit_id]['quantity']+=int(input('Enter quantity: '))\n",
    "      fruit_stock[fruit_id]['alert']=12\n",
    "  else:\n",
    "    print('Incorrect Input')\n",
    "if option==2:\n",
    "  print(\"Welcome To Costomer zone\\n\")\n",
    "  print(f'available fruits = {available_fruits}\\n')\n",
    "  fruit=input('enter a fruit name: ')\n",
    "  fruit=fruit.lower()\n",
    "  if fruit=='mango':\n",
    "    print(f'Fruit Price={fruit_stock[fruit_id][price]}')\n",
    "    quantity=int(input('Enter Quantity: '))\n",
    "    fruit_stock[fruit_id]['quantity']-=quantity\n",
    "    print(f'Pay {fruit_id}*{{fruit_stock[fruit_id][price]}} For Mango')\n",
    "  elif fruit=='banana':\n",
    "    print(f'Fruit Price={fruit_stock[fruit_id][price]}')\n",
    "    quantity=int(input('Enter Quantity: '))\n",
    "    fruit_stock[fruit_id]['quantity']-=quantity\n",
    "    print(f'Pay {quantity}*{{fruit_stock[fruit_id][price]}} For Banana')\n",
    "  elif fruit=='orange':\n",
    "    print(f'Fruit Price={fruit_stock[fruit_id][price]}')\n",
    "    quantity=int(input('Enter Quantity: '))\n",
    "    fruit_stock[fruit_id]['quantity']-=quantity\n",
    "    print(f'Pay {quantity}*{{fruit_stock[fruit_id][price]}} For Orange')\n",
    "  elif fruit=='grapes':\n",
    "    print(f'Fruit Price={fruit_stock[fruit_id][price]}')\n",
    "    quantity=int(input('Enter Quantity: '))\n",
    "    fruit_stock[fruit_id]['quantity']-=quantity\n",
    "    print(f'Pay {quantity}*{{fruit_stock[fruit_id][price]}} For Grapes')\n",
    "  else:\n",
    "    print('Unavailable Fruit')\n",
    "\n",
    "  \n",
    "\n",
    "\n",
    "\n",
    "  "
   ]
  },
  {
   "cell_type": "code",
   "execution_count": 51,
   "metadata": {
    "executionInfo": {
     "elapsed": 805,
     "status": "ok",
     "timestamp": 1664787586514,
     "user": {
      "displayName": "Naresh kumar",
      "userId": "14067707905583327532"
     },
     "user_tz": -330
    },
    "id": "h9Sj9-8Hy104"
   },
   "outputs": [],
   "source": [
    "k='mango'\n",
    "k=k.islower()"
   ]
  },
  {
   "cell_type": "code",
   "execution_count": 52,
   "metadata": {
    "colab": {
     "base_uri": "https://localhost:8080/"
    },
    "executionInfo": {
     "elapsed": 5,
     "status": "ok",
     "timestamp": 1664787591283,
     "user": {
      "displayName": "Naresh kumar",
      "userId": "14067707905583327532"
     },
     "user_tz": -330
    },
    "id": "NSdvXhHr3Kd3",
    "outputId": "69029c28-0c8f-425a-b92a-da8e5f5b3d11"
   },
   "outputs": [
    {
     "data": {
      "text/plain": [
       "True"
      ]
     },
     "execution_count": 52,
     "metadata": {},
     "output_type": "execute_result"
    }
   ],
   "source": [
    "k"
   ]
  },
  {
   "cell_type": "code",
   "execution_count": null,
   "metadata": {
    "id": "VLTIVI3hEqX5"
   },
   "outputs": [],
   "source": []
  }
 ],
 "metadata": {
  "colab": {
   "authorship_tag": "ABX9TyNdn/NUGkyv0PHuPYS8uwAI",
   "provenance": []
  },
  "kernelspec": {
   "display_name": "Python 3 (ipykernel)",
   "language": "python",
   "name": "python3"
  },
  "language_info": {
   "codemirror_mode": {
    "name": "ipython",
    "version": 3
   },
   "file_extension": ".py",
   "mimetype": "text/x-python",
   "name": "python",
   "nbconvert_exporter": "python",
   "pygments_lexer": "ipython3",
   "version": "3.9.12"
  }
 },
 "nbformat": 4,
 "nbformat_minor": 1
}
